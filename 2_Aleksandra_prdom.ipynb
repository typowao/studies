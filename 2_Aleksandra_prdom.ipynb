{
 "cells": [
  {
   "cell_type": "markdown",
   "metadata": {},
   "source": [
    "# Zadanie 8"
   ]
  },
  {
   "cell_type": "code",
   "execution_count": 1,
   "metadata": {},
   "outputs": [],
   "source": [
    "import math\n",
    "import arcpy\n",
    "arcpy.env.workspace = \"C:\\\\Users\\\\ola\\\\Documents\\\\pw\\\\PROGRAMOWANIE W SIP\\\\MyProject\\\\MyProject.gdb\"\n"
   ]
  },
  {
   "cell_type": "code",
   "execution_count": 22,
   "metadata": {},
   "outputs": [
    {
     "data": {
      "text/html": [
       "<h2>Output</h2>a Layer object<h2>Messages</h2>Start Time: piątek, 19 listopada 2021 17:51:56<br/>Succeeded at piątek, 19 listopada 2021 17:51:56 (Elapsed Time: 0,13 seconds)<br/><style>.rendered_html td, .rendered_html th {text-align: left;}.rendered_html tbody {border: 1px solid black;}</style>"
      ],
      "text/plain": [
       "<Result 'bd_gleby'>"
      ]
     },
     "execution_count": 22,
     "metadata": {},
     "output_type": "execute_result"
    }
   ],
   "source": [
    "gleby = \"bd_gleby\"\n",
    "arcpy.AddField_management(gleby, \"przydat\", \"integer\")\n",
    "\n",
    "codeblock = \"\"\"\n",
    "def przydatnosc(a,b):\n",
    "\n",
    "    k1_A = ['A', 'Ax', 'Bw', 'Bg', '1','2','3','5','6','7']\n",
    "    k1_B = ['D', 'Dz', '4']\n",
    "    \n",
    "    k2_A = ['F', '1','2','3','4','5','6','7']\n",
    "    k2_B = ['G', '1','2','3','4','5','6']\n",
    "    \n",
    "    k3 = ['E', 'T', 'M', '1z','2z','3z','8','9','14']\n",
    "    \n",
    "    if a in k1_A and b in k1_A:\n",
    "        return \"1\"\n",
    "    elif a in k1_B and b in k1_B:\n",
    "         return \"1\"  \n",
    "    \n",
    "    if a in k2_A and b in k2_A:\n",
    "        return \"2\"\n",
    "    elif a in k2_B and b in k2_B:\n",
    "         return \"2\"  \n",
    "         \n",
    "    if a in k3 and b in k3:\n",
    "        return \"3\"\n",
    "    else:\n",
    "        return \"8\"\n",
    "        \n",
    "\"\"\"\n",
    "\n",
    "exp= \"przydatnosc(!SOIL_TYPE!, !SOIL_SUITA!)\"\n",
    "arcpy.CalculateField_management(gleby, \"przydat\", exp, \"PYTHON3\", codeblock)"
   ]
  },
  {
   "cell_type": "markdown",
   "metadata": {},
   "source": [
    "# Zadanie 9"
   ]
  },
  {
   "cell_type": "code",
   "execution_count": 16,
   "metadata": {},
   "outputs": [
    {
     "data": {
      "text/html": [
       "<h2>Output</h2>a Layer object<h2>Messages</h2>Start Time: piątek, 19 listopada 2021 17:26:56<br/>Succeeded at piątek, 19 listopada 2021 17:26:57 (Elapsed Time: 0,57 seconds)<br/><style>.rendered_html td, .rendered_html th {text-align: left;}.rendered_html tbody {border: 1px solid black;}</style>"
      ],
      "text/plain": [
       "<Result 'pkt_adresowe_srodmiescie_2016'>"
      ]
     },
     "execution_count": 16,
     "metadata": {},
     "output_type": "execute_result"
    }
   ],
   "source": [
    "adresy = \"pkt_adresowe_srodmiescie_2016\"\n",
    "\n",
    "arcpy.AddField_management(adresy, \"nr_int\", \"text\")\n",
    "arcpy.AddField_management(adresy, \"nr_text\", \"text\")\n",
    "\n",
    "codeblock = \"\"\"\n",
    "def spr_txt(nr):\n",
    "    text=[]\n",
    "    for i in nr[::1]:\n",
    "        if i.isalpha():\n",
    "            text.append(i)\n",
    "    if not text:\n",
    "        return 'None'\n",
    "    else:\n",
    "        return \"\".join(text)\n",
    "def spr_int(nr):\n",
    "    int1=[]\n",
    "    for f in nr[::1]:\n",
    "        if f.isnumeric():\n",
    "            int1.append(f)\n",
    "    if not int1:\n",
    "        return 'None'\n",
    "    else:\n",
    "        return int(\"\".join(int1))\n",
    "\"\"\"\n",
    "\n",
    "exp= \"spr_txt(!pad_numer_!)\"\n",
    "exp1= \"spr_int(!pad_numer_!)\"\n",
    "#arcpy.CalculateField_management(adresy, \"nr_text\", expression, \"PYTHON3\", codeblock)\n",
    "arcpy.management.CalculateFields(adresy, \"PYTHON3\", [[\"nr_text\", exp],[\"nr_int\", exp1]], codeblock)\n",
    "#arcpy.CalculateField_management(adresy, \"nr_int\", expression, \"PYTHON3\", codeblock)"
   ]
  },
  {
   "cell_type": "code",
   "execution_count": null,
   "metadata": {},
   "outputs": [],
   "source": []
  },
  {
   "cell_type": "markdown",
   "metadata": {},
   "source": [
    "# Zadanie 10"
   ]
  },
  {
   "cell_type": "code",
   "execution_count": null,
   "metadata": {},
   "outputs": [],
   "source": [
    "import math\n",
    "import arcpy\n",
    "\n",
    "#przypisanie warstwy do zmiennej i utworzenie nowych atrybutów\n",
    "gminy = \"PRG_gminy_mazowieckie\"\n",
    "arcpy.AddField_management(gminy, \"area\", \"double\")\n",
    "arcpy.AddField_management(gminy, \"obwod\", \"double\")\n",
    "arcpy.AddField_management(gminy, \"zwartosc\", \"double\")\n",
    "\n",
    "#obliczenie powierzchnii i obwodu obiektów i wpisanie do tabeli\n",
    "arcpy.CalculateField_management(gminy, \"area\", \"!shape.area!\", \"PYTHON3\")\n",
    "arcpy.CalculateField_management(gminy, \"obwod\", \"!shape.length!\", \"PYTHON3\")\n",
    "\n",
    "#obliczenie zwartości i wpisanie do tabeli\n",
    "arcpy.CalculateField_management(gminy, \"zwartosc\", \"math.sqrt(!area!*4*math.pi/(!obwod! * !obwod! ))\", \"PYTHON3\")\n"
   ]
  }
 ],
 "metadata": {
  "kernelspec": {
   "display_name": "ArcGISPro",
   "language": "Python",
   "name": "python3"
  },
  "language_info": {
   "file_extension": ".py",
   "name": "python",
   "version": "3"
  }
 },
 "nbformat": 4,
 "nbformat_minor": 2
}
