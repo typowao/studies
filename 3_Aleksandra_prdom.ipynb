{
 "cells": [
  {
   "cell_type": "markdown",
   "metadata": {},
   "source": []
  },
  {
   "cell_type": "code",
   "execution_count": 43,
   "metadata": {},
   "outputs": [],
   "source": [
    "import arcpy\n",
    "from arcpy import env\n",
    "env.workspace = \"C:\\\\Users\\\\ola\\\\Documents\\\\pw\\\\PROGRAMOWANIE_W_SIP\\\\zajęcia_nr_3\\\\a3_arcpy\\\\projekt_zaj3\\\\Zad3.gdb\"\n"
   ]
  },
  {
   "cell_type": "code",
   "execution_count": null,
   "metadata": {},
   "outputs": [],
   "source": []
  },
  {
   "cell_type": "markdown",
   "metadata": {},
   "source": [
    "# Zadane 3_7"
   ]
  },
  {
   "cell_type": "code",
   "execution_count": 2,
   "metadata": {},
   "outputs": [
    {
     "data": {
      "text/html": [
       "<h2>Output</h2>a Layer object<h2>Messages</h2>Start Time: piątek, 26 listopada 2021 18:09:57<br/>Succeeded at piątek, 26 listopada 2021 18:09:57 (Elapsed Time: 0,09 seconds)<br/><style>.rendered_html td, .rendered_html th {text-align: left;}.rendered_html tbody {border: 1px solid black;}</style>"
      ],
      "text/plain": [
       "<Result 'lasy'>"
      ]
     },
     "execution_count": 2,
     "metadata": {},
     "output_type": "execute_result"
    }
   ],
   "source": [
    "#zadanie 3_6\n",
    "lasy = \"lasy\"\n",
    "arcpy.AddField_management(lasy, \"klasa_pow\", \"TEXT\")\n",
    "\n",
    "codeblock = \"\"\"\n",
    "def klasyfikacja(x):\n",
    "    pow = x/1000000\n",
    "    \n",
    "    if pow <=20 :\n",
    "        return \"małe\"\n",
    "    elif pow>20 and pow<=80:\n",
    "        return \"średnie\"\n",
    "    elif pow>80:\n",
    "        return \"duże\"\n",
    "\"\"\"\n",
    "ext = \"klasyfikacja(!Shape_Area!)\"\n",
    "arcpy.CalculateField_management(lasy, \"klasa_pow\", ext, \"PYTHON3\", codeblock)"
   ]
  },
  {
   "cell_type": "code",
   "execution_count": 3,
   "metadata": {},
   "outputs": [
    {
     "data": {
      "text/html": [
       "<h2>Output</h2>a Layer object<h2>Messages</h2>Start Time: piątek, 26 listopada 2021 18:10:01<br/>Succeeded at piątek, 26 listopada 2021 18:10:01 (Elapsed Time: 0,09 seconds)<br/><style>.rendered_html td, .rendered_html th {text-align: left;}.rendered_html tbody {border: 1px solid black;}</style>"
      ],
      "text/plain": [
       "<Result 'lasy'>"
      ]
     },
     "execution_count": 3,
     "metadata": {},
     "output_type": "execute_result"
    }
   ],
   "source": [
    "#stworzenie sobie nowego atrybutu, zeby latwo wybrac do selekcji\n",
    "arcpy.AddField_management(lasy, \"skr_name\", \"TEXT\")\n",
    "arcpy.CalculateField_management(lasy, \"skr_name\", \"!name![:7].lstrip()\", \"PYTHON3\")"
   ]
  },
  {
   "cell_type": "code",
   "execution_count": 4,
   "metadata": {},
   "outputs": [
    {
     "data": {
      "text/html": [
       "<h2>Output</h2>C:\\Users\\ola\\Documents\\pw\\PROGRAMOWANIE_W_SIP\\zajecia_nr_3\\a3_arcpy\\projekt_zaj3\\Zad3.gdb\\do_buforu<h2>Messages</h2>Start Time: piątek, 26 listopada 2021 18:10:04<br/>Succeeded at piątek, 26 listopada 2021 18:10:05 (Elapsed Time: 0,91 seconds)<br/><style>.rendered_html td, .rendered_html th {text-align: left;}.rendered_html tbody {border: 1px solid black;}</style>"
      ],
      "text/plain": [
       "<Result 'C:\\\\Users\\\\ola\\\\Documents\\\\pw\\\\PROGRAMOWANIE_W_SIP\\\\zajecia_nr_3\\\\a3_arcpy\\\\projekt_zaj3\\\\Zad3.gdb\\\\do_buforu'>"
      ]
     },
     "execution_count": 4,
     "metadata": {},
     "output_type": "execute_result"
    }
   ],
   "source": [
    "#wybranie wierszy po atrybucie puszcza\n",
    "select = arcpy.SelectLayerByAttribute_management(\"lasy\", \"NEW_SELECTION\", ' \"skr_name\" LIKE ' + \" 'Puszcza' \")\n",
    "#dodanie do selekcji warunku z powierzchnia\n",
    "add=arcpy.SelectLayerByAttribute_management(select, \"SUBSET_SELECTION\", ' \"klasa_pow\" LIKE ' + \" 'małe' \", \"INVERT\")\n",
    "\n",
    "\n",
    "# Write the selected features to a new feature class\n",
    "arcpy.CopyFeatures_management(add, 'do_buforu')"
   ]
  },
  {
   "cell_type": "code",
   "execution_count": 27,
   "metadata": {},
   "outputs": [
    {
     "data": {
      "text/html": [
       "<h2>Output</h2>C:\\Users\\ola\\Documents\\pw\\PROGRAMOWANIE_W_SIP\\zajecia_nr_3\\a3_arcpy\\projekt_zaj3\\Zad3.gdb\\lasy_buffer<h2>Messages</h2>Start Time: piątek, 26 listopada 2021 18:55:12<br/>Succeeded at piątek, 26 listopada 2021 18:55:32 (Elapsed Time: 19,71 seconds)<br/><style>.rendered_html td, .rendered_html th {text-align: left;}.rendered_html tbody {border: 1px solid black;}</style>"
      ],
      "text/plain": [
       "<Result 'C:\\\\Users\\\\ola\\\\Documents\\\\pw\\\\PROGRAMOWANIE_W_SIP\\\\zajecia_nr_3\\\\a3_arcpy\\\\projekt_zaj3\\\\Zad3.gdb\\\\lasy_buffer'>"
      ]
     },
     "execution_count": 27,
     "metadata": {},
     "output_type": "execute_result"
    }
   ],
   "source": [
    "#utworzenie listy z odległościami do pierścieni \n",
    "\n",
    "distanceList=[]  \n",
    "i = 1000\n",
    "for i in range(1000, 50500, 500):\n",
    "    distanceList.append(i)\n",
    "#distance = \"\".join(distanceList)\n",
    "\n",
    "#utworzenie pierścieni\n",
    "outFeatureClass = \"lasy_buffer\"\n",
    "#distance=[1000,1500,2000]\n",
    "arcpy.MultipleRingBuffer_analysis(\"do_buforu\", outFeatureClass, distanceList,\"meters\", \"\", \"ALL\")"
   ]
  },
  {
   "cell_type": "code",
   "execution_count": 40,
   "metadata": {},
   "outputs": [
    {
     "data": {
      "text/html": [
       "<h2>Output</h2><table><tr><th>id</th><th>value</th></tr><tr><td>0</td><td>a Layer object</td></tr><tr><td>1</td><td>1</td></tr></table><h2>Messages</h2>Start Time: niedziela, 28 listopada 2021 20:51:14<br/>Succeeded at niedziela, 28 listopada 2021 20:51:14 (Elapsed Time: 0,05 seconds)<br/><style>.rendered_html td, .rendered_html th {text-align: left;}.rendered_html tbody {border: 1px solid black;}</style>"
      ],
      "text/plain": [
       "<Result 'lasy_buffer'>"
      ]
     },
     "execution_count": 40,
     "metadata": {},
     "output_type": "execute_result"
    }
   ],
   "source": [
    "#wybor pierwszego pierscienia do usuniecia\n",
    "query = \"\\\"OBJECTID\\\"=\"+str(2)\n",
    "arcpy.SelectLayerByAttribute_management(\"lasy_buffer\", \"NEW_SELECTION\", query)"
   ]
  },
  {
   "cell_type": "code",
   "execution_count": 42,
   "metadata": {},
   "outputs": [
    {
     "data": {
      "text/html": [
       "<h2>Output</h2>a Layer object<h2>Messages</h2>Start Time: niedziela, 28 listopada 2021 20:52:43<br/>Succeeded at niedziela, 28 listopada 2021 20:52:44 (Elapsed Time: 0,31 seconds)<br/><style>.rendered_html td, .rendered_html th {text-align: left;}.rendered_html tbody {border: 1px solid black;}</style>"
      ],
      "text/plain": [
       "<Result 'lasy_buffer'>"
      ]
     },
     "execution_count": 42,
     "metadata": {},
     "output_type": "execute_result"
    }
   ],
   "source": [
    "#wybor kolejnych pierscieni do usuniecia \n",
    "j = int(5)\n",
    "#dist=[]\n",
    "for j in range(2, 100, 3):\n",
    "    k = int(int(3) + int(j))\n",
    "    #dist.append(j)\n",
    "    query1 = \"\\\"OBJECTID\\\"=\"+str(k)\n",
    "    wybor_usun = arcpy.SelectLayerByAttribute_management(\"lasy_buffer\", \"ADD_TO_SELECTION\", query1)\n",
    "\n",
    "#usuniecie niepotrzebnych pierscieni\n",
    "arcpy.DeleteRows_management(wybor_usun)"
   ]
  },
  {
   "cell_type": "markdown",
   "metadata": {},
   "source": [
    "# Zadane 3_8"
   ]
  },
  {
   "cell_type": "code",
   "execution_count": 54,
   "metadata": {},
   "outputs": [
    {
     "name": "stdout",
     "output_type": "stream",
     "text": [
      "Atrybut, x_kod\n",
      "('BUBD01', 1229)\n",
      "('BUBD02', 2)\n",
      "('BUBD03', 974)\n",
      "('BUBD04', 21)\n",
      "('BUBD05', 10)\n",
      "('BUBD07', 295)\n",
      "('BUBD08', 282)\n",
      "('BUBD09', 6)\n",
      "('BUBD10', 181)\n",
      "('BUBD11', 177)\n",
      "('BUBD12', 267)\n",
      "('BUBD13', 12)\n",
      "('BUBD14', 22)\n",
      "('BUBD15', 144)\n",
      "('BUBD16', 72)\n",
      "('BUBD17', 7)\n",
      "('BUBD18', 1162)\n",
      "('BUBD19', 8)\n",
      "('BUBD21', 73)\n"
     ]
    }
   ],
   "source": [
    "import arcpy\n",
    "#trzeba dodac samemu wartwe bubd do  geobazy\n",
    "bud = \"BUBD_fragment\"\n",
    "out_table = \"statt_suma\"\n",
    "\n",
    "#policzenie ile jest każdego bubd\n",
    "arcpy.analysis.Frequency(bud, out_table, [\"x_kod\"])\n",
    "\n",
    "cursor = arcpy.da.SearchCursor(out_table, ['x_kod', 'FREQUENCY'])\n",
    "#drukowanie wszystkich wierszy tabeli z wybranymi polami:\n",
    "print(\"Atrybut, x_kod\")\n",
    "for row in cursor:\n",
    "     print(row)"
   ]
  },
  {
   "cell_type": "markdown",
   "metadata": {},
   "source": [
    "# Zadanie 3_9"
   ]
  },
  {
   "cell_type": "code",
   "execution_count": 69,
   "metadata": {},
   "outputs": [],
   "source": [
    "\n",
    "#powtorzenie z wczesniejszego zadania\n",
    "cursor = arcpy.da.SearchCursor(out_table, ['x_kod', 'FREQUENCY'])\n",
    "\n",
    "#otwarcie i domyslne stworzenie pliku txt i zapisanie do niego wynikków\n",
    "with open('stat_suma.txt','w') as in_plik:\n",
    "    in_plik.write('atrybut   '+'x_kod'+'\\n')\n",
    "    for row in cursor:\n",
    "        in_plik.write(str(row)+ '\\n')\n",
    "in_plik.close()\n"
   ]
  },
  {
   "cell_type": "code",
   "execution_count": null,
   "metadata": {},
   "outputs": [],
   "source": []
  }
 ],
 "metadata": {
  "kernelspec": {
   "display_name": "ArcGISPro",
   "language": "Python",
   "name": "python3"
  },
  "language_info": {
   "file_extension": ".py",
   "name": "python",
   "version": "3"
  }
 },
 "nbformat": 4,
 "nbformat_minor": 2
}
